{
 "cells": [
  {
   "cell_type": "markdown",
   "metadata": {},
   "source": [
    "## Problem Statement\n",
    "As we all know, Cristiano Ronaldo is a legend in the football world. He has played a thousand games and scored hundreds of goals. Now, given the dataset of Cristiano Ronaldo's \"attempts\" on the goal target, in all his recorded and unrecorded matches, predict if he has scored a goal or not. Formally, you are given a dataset of attempts taken by Ronaldo, predict if he scored a goal or not."
   ]
  },
  {
   "cell_type": "markdown",
   "metadata": {},
   "source": [
    "### Instruction\n",
    "This dataset contains the records of all the attempts Ronaldo has taken. The column \"is_goal\" has a missing value for all the rows you need to predict the value of \"is_goal\". Extract the rows with missing \"is_goal\" value and submit your prediction as the probability [0.0 -1.0] of the goal scored."
   ]
  },
  {
   "cell_type": "code",
   "execution_count": 1,
   "metadata": {},
   "outputs": [
    {
     "name": "stdout",
     "output_type": "stream",
     "text": [
      "hello world! This is Rohit~~!!!\n"
     ]
    }
   ],
   "source": [
    "import pandas as pd\n",
    "import numpy as np\n",
    "import seaborn as sns\n",
    "import matplotlib.pyplot as plt\n",
    "from sklearn.preprocessing import StandardScaler, MinMaxScaler\n",
    "from numpy import array\n",
    "from sklearn.model_selection import train_test_split\n",
    "from sklearn import metrics\n",
    "from sklearn.model_selection import GridSearchCV\n",
    "from sklearn.linear_model import LogisticRegression\n",
    "from sklearn.ensemble import AdaBoostClassifier\n",
    "import warnings\n",
    "warnings.simplefilter(action='ignore', category=FutureWarning)\n"
   ]
  },
  {
   "cell_type": "code",
   "execution_count": 2,
   "metadata": {},
   "outputs": [],
   "source": [
    "df = pd.read_csv(\"data.csv\")"
   ]
  },
  {
   "cell_type": "code",
   "execution_count": 3,
   "metadata": {
    "scrolled": false
   },
   "outputs": [
    {
     "data": {
      "text/html": [
       "<div>\n",
       "<style scoped>\n",
       "    .dataframe tbody tr th:only-of-type {\n",
       "        vertical-align: middle;\n",
       "    }\n",
       "\n",
       "    .dataframe tbody tr th {\n",
       "        vertical-align: top;\n",
       "    }\n",
       "\n",
       "    .dataframe thead th {\n",
       "        text-align: right;\n",
       "    }\n",
       "</style>\n",
       "<table border=\"1\" class=\"dataframe\">\n",
       "  <thead>\n",
       "    <tr style=\"text-align: right;\">\n",
       "      <th></th>\n",
       "      <th>Unnamed: 0</th>\n",
       "      <th>match_event_id</th>\n",
       "      <th>location_x</th>\n",
       "      <th>location_y</th>\n",
       "      <th>remaining_min</th>\n",
       "      <th>power_of_shot</th>\n",
       "      <th>knockout_match</th>\n",
       "      <th>game_season</th>\n",
       "      <th>remaining_sec</th>\n",
       "      <th>distance_of_shot</th>\n",
       "      <th>...</th>\n",
       "      <th>lat/lng</th>\n",
       "      <th>type_of_shot</th>\n",
       "      <th>type_of_combined_shot</th>\n",
       "      <th>match_id</th>\n",
       "      <th>team_id</th>\n",
       "      <th>remaining_min.1</th>\n",
       "      <th>power_of_shot.1</th>\n",
       "      <th>knockout_match.1</th>\n",
       "      <th>remaining_sec.1</th>\n",
       "      <th>distance_of_shot.1</th>\n",
       "    </tr>\n",
       "  </thead>\n",
       "  <tbody>\n",
       "    <tr>\n",
       "      <th>0</th>\n",
       "      <td>0</td>\n",
       "      <td>10.0</td>\n",
       "      <td>167.0</td>\n",
       "      <td>72.0</td>\n",
       "      <td>10.0</td>\n",
       "      <td>1.0</td>\n",
       "      <td>0.0</td>\n",
       "      <td>2000-01</td>\n",
       "      <td>27.0</td>\n",
       "      <td>38.0</td>\n",
       "      <td>...</td>\n",
       "      <td>45.539131, -122.651648</td>\n",
       "      <td>shot - 30</td>\n",
       "      <td>NaN</td>\n",
       "      <td>20000012</td>\n",
       "      <td>1610612747</td>\n",
       "      <td>10.00</td>\n",
       "      <td>1.0</td>\n",
       "      <td>50.608</td>\n",
       "      <td>54.2000</td>\n",
       "      <td>38.0</td>\n",
       "    </tr>\n",
       "    <tr>\n",
       "      <th>1</th>\n",
       "      <td>1</td>\n",
       "      <td>12.0</td>\n",
       "      <td>-157.0</td>\n",
       "      <td>0.0</td>\n",
       "      <td>10.0</td>\n",
       "      <td>1.0</td>\n",
       "      <td>0.0</td>\n",
       "      <td>2000-01</td>\n",
       "      <td>22.0</td>\n",
       "      <td>35.0</td>\n",
       "      <td>...</td>\n",
       "      <td>45.539131, -122.651648</td>\n",
       "      <td>shot - 45</td>\n",
       "      <td>NaN</td>\n",
       "      <td>20000012</td>\n",
       "      <td>1610612747</td>\n",
       "      <td>10.00</td>\n",
       "      <td>1.0</td>\n",
       "      <td>28.800</td>\n",
       "      <td>22.0000</td>\n",
       "      <td>35.0</td>\n",
       "    </tr>\n",
       "    <tr>\n",
       "      <th>2</th>\n",
       "      <td>2</td>\n",
       "      <td>35.0</td>\n",
       "      <td>-101.0</td>\n",
       "      <td>135.0</td>\n",
       "      <td>7.0</td>\n",
       "      <td>1.0</td>\n",
       "      <td>0.0</td>\n",
       "      <td>2000-01</td>\n",
       "      <td>45.0</td>\n",
       "      <td>36.0</td>\n",
       "      <td>...</td>\n",
       "      <td>45.539131, -122.651648</td>\n",
       "      <td>shot - 25</td>\n",
       "      <td>NaN</td>\n",
       "      <td>20000012</td>\n",
       "      <td>1610612747</td>\n",
       "      <td>92.64</td>\n",
       "      <td>1.0</td>\n",
       "      <td>0.000</td>\n",
       "      <td>63.7216</td>\n",
       "      <td>54.4</td>\n",
       "    </tr>\n",
       "    <tr>\n",
       "      <th>3</th>\n",
       "      <td>3</td>\n",
       "      <td>43.0</td>\n",
       "      <td>138.0</td>\n",
       "      <td>175.0</td>\n",
       "      <td>6.0</td>\n",
       "      <td>1.0</td>\n",
       "      <td>0.0</td>\n",
       "      <td>2000-01</td>\n",
       "      <td>52.0</td>\n",
       "      <td>42.0</td>\n",
       "      <td>...</td>\n",
       "      <td>45.539131, -122.651648</td>\n",
       "      <td>NaN</td>\n",
       "      <td>shot - 3</td>\n",
       "      <td>20000012</td>\n",
       "      <td>1610612747</td>\n",
       "      <td>NaN</td>\n",
       "      <td>1.0</td>\n",
       "      <td>122.608</td>\n",
       "      <td>52.0000</td>\n",
       "      <td>42.0</td>\n",
       "    </tr>\n",
       "    <tr>\n",
       "      <th>4</th>\n",
       "      <td>4</td>\n",
       "      <td>155.0</td>\n",
       "      <td>0.0</td>\n",
       "      <td>0.0</td>\n",
       "      <td>NaN</td>\n",
       "      <td>2.0</td>\n",
       "      <td>0.0</td>\n",
       "      <td>2000-01</td>\n",
       "      <td>19.0</td>\n",
       "      <td>20.0</td>\n",
       "      <td>...</td>\n",
       "      <td>45.539131, -122.651648</td>\n",
       "      <td>NaN</td>\n",
       "      <td>shot - 1</td>\n",
       "      <td>20000012</td>\n",
       "      <td>1610612747</td>\n",
       "      <td>42.64</td>\n",
       "      <td>2.0</td>\n",
       "      <td>0.000</td>\n",
       "      <td>19.0000</td>\n",
       "      <td>20.0</td>\n",
       "    </tr>\n",
       "  </tbody>\n",
       "</table>\n",
       "<p>5 rows × 28 columns</p>\n",
       "</div>"
      ],
      "text/plain": [
       "   Unnamed: 0  match_event_id  location_x  location_y  remaining_min  \\\n",
       "0           0            10.0       167.0        72.0           10.0   \n",
       "1           1            12.0      -157.0         0.0           10.0   \n",
       "2           2            35.0      -101.0       135.0            7.0   \n",
       "3           3            43.0       138.0       175.0            6.0   \n",
       "4           4           155.0         0.0         0.0            NaN   \n",
       "\n",
       "   power_of_shot  knockout_match game_season  remaining_sec  distance_of_shot  \\\n",
       "0            1.0             0.0     2000-01           27.0              38.0   \n",
       "1            1.0             0.0     2000-01           22.0              35.0   \n",
       "2            1.0             0.0     2000-01           45.0              36.0   \n",
       "3            1.0             0.0     2000-01           52.0              42.0   \n",
       "4            2.0             0.0     2000-01           19.0              20.0   \n",
       "\n",
       "   ...                 lat/lng type_of_shot type_of_combined_shot  match_id  \\\n",
       "0  ...  45.539131, -122.651648    shot - 30                   NaN  20000012   \n",
       "1  ...  45.539131, -122.651648    shot - 45                   NaN  20000012   \n",
       "2  ...  45.539131, -122.651648    shot - 25                   NaN  20000012   \n",
       "3  ...  45.539131, -122.651648          NaN              shot - 3  20000012   \n",
       "4  ...  45.539131, -122.651648          NaN              shot - 1  20000012   \n",
       "\n",
       "      team_id remaining_min.1 power_of_shot.1  knockout_match.1  \\\n",
       "0  1610612747           10.00             1.0            50.608   \n",
       "1  1610612747           10.00             1.0            28.800   \n",
       "2  1610612747           92.64             1.0             0.000   \n",
       "3  1610612747             NaN             1.0           122.608   \n",
       "4  1610612747           42.64             2.0             0.000   \n",
       "\n",
       "  remaining_sec.1 distance_of_shot.1  \n",
       "0         54.2000               38.0  \n",
       "1         22.0000               35.0  \n",
       "2         63.7216               54.4  \n",
       "3         52.0000               42.0  \n",
       "4         19.0000               20.0  \n",
       "\n",
       "[5 rows x 28 columns]"
      ]
     },
     "execution_count": 3,
     "metadata": {},
     "output_type": "execute_result"
    }
   ],
   "source": [
    "df.head()"
   ]
  },
  {
   "cell_type": "code",
   "execution_count": 4,
   "metadata": {
    "scrolled": true
   },
   "outputs": [
    {
     "data": {
      "text/plain": [
       "(30697, 28)"
      ]
     },
     "execution_count": 4,
     "metadata": {},
     "output_type": "execute_result"
    }
   ],
   "source": [
    "df.shape"
   ]
  },
  {
   "cell_type": "code",
   "execution_count": 5,
   "metadata": {},
   "outputs": [],
   "source": [
    "df['shot_id_number'] = np.arange(len(df)) + 1"
   ]
  },
  {
   "cell_type": "code",
   "execution_count": 6,
   "metadata": {},
   "outputs": [
    {
     "name": "stdout",
     "output_type": "stream",
     "text": [
      "<class 'pandas.core.frame.DataFrame'>\n",
      "RangeIndex: 30697 entries, 0 to 30696\n",
      "Data columns (total 28 columns):\n",
      "Unnamed: 0               30697 non-null int64\n",
      "match_event_id           29134 non-null float64\n",
      "location_x               29236 non-null float64\n",
      "location_y               29157 non-null float64\n",
      "remaining_min            29135 non-null float64\n",
      "power_of_shot            29211 non-null float64\n",
      "knockout_match           29180 non-null float64\n",
      "game_season              24835 non-null object\n",
      "remaining_sec            29103 non-null float64\n",
      "distance_of_shot         29130 non-null float64\n",
      "is_goal                  24429 non-null float64\n",
      "area_of_shot             29195 non-null object\n",
      "shot_basics              29122 non-null object\n",
      "range_of_shot            29133 non-null object\n",
      "team_name                29162 non-null object\n",
      "date_of_game             29147 non-null object\n",
      "home/away                29200 non-null object\n",
      "shot_id_number           30697 non-null int64\n",
      "lat/lng                  29132 non-null object\n",
      "type_of_shot             15417 non-null object\n",
      "type_of_combined_shot    15280 non-null object\n",
      "match_id                 30697 non-null int64\n",
      "team_id                  30697 non-null int64\n",
      "remaining_min.1          29162 non-null float64\n",
      "power_of_shot.1          29158 non-null float64\n",
      "knockout_match.1         29204 non-null float64\n",
      "remaining_sec.1          29158 non-null float64\n",
      "distance_of_shot.1       29129 non-null float64\n",
      "dtypes: float64(14), int64(4), object(10)\n",
      "memory usage: 6.6+ MB\n"
     ]
    }
   ],
   "source": [
    "df.info()"
   ]
  },
  {
   "cell_type": "code",
   "execution_count": 7,
   "metadata": {
    "scrolled": true
   },
   "outputs": [
    {
     "data": {
      "text/plain": [
       "Unnamed: 0                   0\n",
       "match_event_id            1563\n",
       "location_x                1461\n",
       "location_y                1540\n",
       "remaining_min             1562\n",
       "power_of_shot             1486\n",
       "knockout_match            1517\n",
       "game_season               5862\n",
       "remaining_sec             1594\n",
       "distance_of_shot          1567\n",
       "is_goal                   6268\n",
       "area_of_shot              1502\n",
       "shot_basics               1575\n",
       "range_of_shot             1564\n",
       "team_name                 1535\n",
       "date_of_game              1550\n",
       "home/away                 1497\n",
       "shot_id_number               0\n",
       "lat/lng                   1565\n",
       "type_of_shot             15280\n",
       "type_of_combined_shot    15417\n",
       "match_id                     0\n",
       "team_id                      0\n",
       "remaining_min.1           1535\n",
       "power_of_shot.1           1539\n",
       "knockout_match.1          1493\n",
       "remaining_sec.1           1539\n",
       "distance_of_shot.1        1568\n",
       "dtype: int64"
      ]
     },
     "execution_count": 7,
     "metadata": {},
     "output_type": "execute_result"
    }
   ],
   "source": [
    "# Percentage of NA values in columns\n",
    "df.isna().sum()"
   ]
  },
  {
   "cell_type": "markdown",
   "metadata": {},
   "source": [
    "## Feature Engineering"
   ]
  },
  {
   "cell_type": "code",
   "execution_count": 8,
   "metadata": {
    "scrolled": true
   },
   "outputs": [],
   "source": [
    "# Replacing missing value of col A with value of col B\n",
    "df['remaining_min'].fillna(df['remaining_min.1'], inplace=True)\n",
    "df['type_of_shot'].fillna(df['type_of_combined_shot'], inplace=True)\n",
    "df['power_of_shot'].fillna(df['power_of_shot.1'], inplace=True)\n",
    "df['knockout_match'].fillna(df['knockout_match.1'], inplace=True)\n",
    "df['remaining_sec'].fillna(df['remaining_sec.1'], inplace=True)\n",
    "df['distance_of_shot'].fillna(df['distance_of_shot.1'], inplace=True)\n",
    "\n",
    "# Dropping unnecessary cols\n",
    "df = df.drop(['remaining_min.1', 'power_of_shot.1', 'knockout_match.1', 'remaining_sec.1', 'distance_of_shot.1',\n",
    "              'Unnamed: 0', 'match_id', 'team_id', 'match_event_id', 'team_name', 'home/away',\n",
    "              'type_of_combined_shot', 'lat/lng',\n",
    "              'game_season'], axis=1)"
   ]
  },
  {
   "cell_type": "code",
   "execution_count": 9,
   "metadata": {},
   "outputs": [],
   "source": [
    "df['type_of_shot'] = df['type_of_shot'].str.extract('(\\d+)').astype(int)"
   ]
  },
  {
   "cell_type": "code",
   "execution_count": 10,
   "metadata": {
    "scrolled": false
   },
   "outputs": [],
   "source": [
    "# Imputing NA with mean\n",
    "df['remaining_min'].fillna((df['remaining_min'].mean()), inplace=True)\n",
    "df['power_of_shot'].fillna((df['power_of_shot'].mode()[0]), inplace=True)\n",
    "df['remaining_sec'].fillna((df['remaining_sec'].mean()), inplace=True)\n",
    "df['distance_of_shot'].fillna((df['distance_of_shot'].mean()), inplace=True)\n",
    "df['knockout_match'].fillna((df['knockout_match'].mean()), inplace=True)\n",
    "df['location_x'].fillna((df['location_x'].mode()[0]), inplace=True)\n",
    "df['location_y'].fillna((df['location_y'].mode()[0]), inplace=True)"
   ]
  },
  {
   "cell_type": "code",
   "execution_count": 11,
   "metadata": {},
   "outputs": [],
   "source": [
    "df = df.dropna(subset=['area_of_shot', 'shot_basics', 'range_of_shot', 'date_of_game'])"
   ]
  },
  {
   "cell_type": "code",
   "execution_count": 12,
   "metadata": {},
   "outputs": [
    {
     "data": {
      "text/plain": [
       "location_x             0\n",
       "location_y             0\n",
       "remaining_min          0\n",
       "power_of_shot          0\n",
       "knockout_match         0\n",
       "remaining_sec          0\n",
       "distance_of_shot       0\n",
       "is_goal             5113\n",
       "area_of_shot           0\n",
       "shot_basics            0\n",
       "range_of_shot          0\n",
       "date_of_game           0\n",
       "shot_id_number         0\n",
       "type_of_shot           0\n",
       "dtype: int64"
      ]
     },
     "execution_count": 12,
     "metadata": {},
     "output_type": "execute_result"
    }
   ],
   "source": [
    "df.isnull().sum()"
   ]
  },
  {
   "cell_type": "code",
   "execution_count": 13,
   "metadata": {
    "scrolled": true
   },
   "outputs": [],
   "source": [
    "# One hot encoding of categorical variable\n",
    "area_of_shot = pd.get_dummies(df['area_of_shot'])\n",
    "shot_basics = pd.get_dummies(df['shot_basics'])\n",
    "range_of_shot = pd.get_dummies(df['range_of_shot'])"
   ]
  },
  {
   "cell_type": "code",
   "execution_count": 14,
   "metadata": {},
   "outputs": [],
   "source": [
    "# Concatinating after one hot encoding\n",
    "df = pd.concat([df, area_of_shot, shot_basics, range_of_shot], axis=1)\n",
    "df = df.drop(['area_of_shot', 'shot_basics', 'range_of_shot'], axis=1)"
   ]
  },
  {
   "cell_type": "code",
   "execution_count": 15,
   "metadata": {},
   "outputs": [
    {
     "name": "stdout",
     "output_type": "stream",
     "text": [
      "Shape after concatinating: (24969, 29)\n"
     ]
    }
   ],
   "source": [
    "# Dropping NA from date_of_game\n",
    "df = df.dropna(subset=['date_of_game'])\n",
    "print(\"Shape after concatinating: {}\".format(df.shape))"
   ]
  },
  {
   "cell_type": "code",
   "execution_count": 16,
   "metadata": {},
   "outputs": [],
   "source": [
    "# Standardization of Date \n",
    "data = pd.to_datetime(df['date_of_game'])\n",
    "data = array(data).reshape(len(data), 1)\n",
    "scaler_date = MinMaxScaler(feature_range=[0,1])\n",
    "scaler_date = scaler_date.fit(data)\n",
    "df['date_of_game'] = scaler_date.transform(data)"
   ]
  },
  {
   "cell_type": "code",
   "execution_count": 17,
   "metadata": {},
   "outputs": [],
   "source": [
    "# Standardization of other numerical variables\n",
    "numeric = df[['remaining_min', 'power_of_shot', 'remaining_sec', 'distance_of_shot', 'knockout_match', 'type_of_shot', 'location_x', 'location_y']]\n",
    "scalar_num = MinMaxScaler(feature_range=[0,1])\n",
    "scalar_num = scalar_num.fit(numeric)\n",
    "df[['remaining_min', 'power_of_shot', 'remaining_sec', 'distance_of_shot', 'knockout_match', 'type_of_shot', 'location_x', 'location_y']] = scalar_num.transform(numeric)"
   ]
  },
  {
   "cell_type": "code",
   "execution_count": 18,
   "metadata": {
    "scrolled": true
   },
   "outputs": [
    {
     "data": {
      "text/plain": [
       "(5113, 29)"
      ]
     },
     "execution_count": 18,
     "metadata": {},
     "output_type": "execute_result"
    }
   ],
   "source": [
    "# Creating testing dataset\n",
    "test = df[df['is_goal'] != 1.0]\n",
    "test = test[test['is_goal'] != 0.0]\n",
    "test.shape"
   ]
  },
  {
   "cell_type": "code",
   "execution_count": 19,
   "metadata": {},
   "outputs": [
    {
     "data": {
      "text/plain": [
       "(19856, 29)"
      ]
     },
     "execution_count": 19,
     "metadata": {},
     "output_type": "execute_result"
    }
   ],
   "source": [
    "# Creating training dataset\n",
    "train = df.dropna(subset=['is_goal'])\n",
    "train.shape"
   ]
  },
  {
   "cell_type": "code",
   "execution_count": 20,
   "metadata": {},
   "outputs": [
    {
     "data": {
      "text/plain": [
       "24969"
      ]
     },
     "execution_count": 20,
     "metadata": {},
     "output_type": "execute_result"
    }
   ],
   "source": [
    "# Checking if splitting of test and train is done correctly\n",
    "test.shape[0] + train.shape[0]"
   ]
  },
  {
   "cell_type": "code",
   "execution_count": 21,
   "metadata": {},
   "outputs": [
    {
     "data": {
      "text/plain": [
       "Index(['location_x', 'location_y', 'remaining_min', 'power_of_shot',\n",
       "       'knockout_match', 'remaining_sec', 'distance_of_shot', 'is_goal',\n",
       "       'date_of_game', 'shot_id_number', 'type_of_shot', 'Center(C)',\n",
       "       'Left Side Center(LC)', 'Left Side(L)', 'Mid Ground(MG)',\n",
       "       'Right Side Center(RC)', 'Right Side(R)', 'Goal Area', 'Goal Line',\n",
       "       'Left Corner', 'Mid Ground Line', 'Mid Range', 'Penalty Spot',\n",
       "       'Right Corner', '16-24 ft.', '24+ ft.', '8-16 ft.', 'Back Court Shot',\n",
       "       'Less Than 8 ft.'],\n",
       "      dtype='object')"
      ]
     },
     "execution_count": 21,
     "metadata": {},
     "output_type": "execute_result"
    }
   ],
   "source": [
    "train.columns"
   ]
  },
  {
   "cell_type": "markdown",
   "metadata": {},
   "source": [
    "## Model Building"
   ]
  },
  {
   "cell_type": "code",
   "execution_count": 22,
   "metadata": {},
   "outputs": [],
   "source": [
    "X = train\n",
    "X = X.drop(['is_goal', 'shot_id_number'], axis=1)\n",
    "y = train['is_goal']"
   ]
  },
  {
   "cell_type": "code",
   "execution_count": 23,
   "metadata": {},
   "outputs": [],
   "source": [
    "X_train, X_test, y_train, y_test = train_test_split(X, y, test_size=0.15, random_state=42)"
   ]
  },
  {
   "cell_type": "code",
   "execution_count": 24,
   "metadata": {},
   "outputs": [],
   "source": [
    "shot_id_number_col = test.shot_id_number\n",
    "test = test.drop(columns=['is_goal', 'shot_id_number'])"
   ]
  },
  {
   "cell_type": "code",
   "execution_count": 25,
   "metadata": {
    "scrolled": true
   },
   "outputs": [
    {
     "data": {
      "text/plain": [
       "(5113, 27)"
      ]
     },
     "execution_count": 25,
     "metadata": {},
     "output_type": "execute_result"
    }
   ],
   "source": [
    "test.shape"
   ]
  },
  {
   "cell_type": "code",
   "execution_count": 26,
   "metadata": {},
   "outputs": [],
   "source": [
    "# Finding best model\n",
    "from sklearn import linear_model\n",
    "from sklearn.linear_model import LogisticRegressionCV\n",
    "\n",
    "ada = AdaBoostClassifier(n_estimators=38, learning_rate=0.01, random_state=42, algorithm='SAMME.R')\n",
    "logistic_regression = LogisticRegression()"
   ]
  },
  {
   "cell_type": "code",
   "execution_count": 27,
   "metadata": {
    "scrolled": true
   },
   "outputs": [
    {
     "name": "stdout",
     "output_type": "stream",
     "text": [
      "0.6070391657285062\n",
      "0.47161148014808857\n",
      "0.6795271805703567\n"
     ]
    }
   ],
   "source": [
    "grid={\"C\":[0.001,0.01,0.1,1,10,100,1000],'multi_class':['multinomial'],\n",
    "      \"penalty\":[\"l2\"], 'solver':['saga'] }# l1 lasso l2 ridge\n",
    "\n",
    "# logreg_cv=GridSearchCV(logistic_regression,grid,cv=10)\n",
    "# logreg_cv.fit(X_train,y_train)\n",
    "# print(\"tuned hpyerparameters :(best parameters) \",logreg_cv.best_params_)\n",
    "# print(\"accuracy :\",logreg_cv.best_score_)\n",
    "\n",
    "\n",
    "rgr = logistic_regression.fit(X_train, y_train)\n",
    "print(rgr.score(X_train, y_train))\n",
    "y_pred = rgr.predict_proba(X_test)\n",
    "MAE = metrics.mean_absolute_error(y_test, y_pred[:,1])\n",
    "print(MAE)\n",
    "score = 1 / (1+MAE)\n",
    "print('{}'.format(score))"
   ]
  },
  {
   "cell_type": "code",
   "execution_count": 28,
   "metadata": {},
   "outputs": [
    {
     "data": {
      "text/plain": [
       "array([0.4, 0.6, 0.5, 0.3, 0.7, 0. ])"
      ]
     },
     "execution_count": 28,
     "metadata": {},
     "output_type": "execute_result"
    }
   ],
   "source": [
    "y_pred_new_data = rgr.predict_proba(test)\n",
    "actual = pd.DataFrame({'shot_id_number': shot_id_number_col, 'is_goal': y_pred_new_data[:,1]}).reset_index()\n",
    "actual = actual.drop(['index'], axis=1)\n",
    "actual['is_goal'] = actual['is_goal'].round(1)\n",
    "actual.is_goal.unique()"
   ]
  },
  {
   "cell_type": "code",
   "execution_count": 29,
   "metadata": {},
   "outputs": [],
   "source": [
    "actual.to_csv('Submission.csv',index=False)"
   ]
  }
 ],
 "metadata": {
  "kernelspec": {
   "display_name": "Python 3",
   "language": "python",
   "name": "python3"
  },
  "language_info": {
   "codemirror_mode": {
    "name": "ipython",
    "version": 3
   },
   "file_extension": ".py",
   "mimetype": "text/x-python",
   "name": "python",
   "nbconvert_exporter": "python",
   "pygments_lexer": "ipython3",
   "version": "3.7.2"
  }
 },
 "nbformat": 4,
 "nbformat_minor": 2
}
